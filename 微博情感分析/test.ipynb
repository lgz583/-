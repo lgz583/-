{
 "cells": [
  {
   "cell_type": "code",
   "execution_count": 1,
   "metadata": {},
   "outputs": [],
   "source": [
    "from sklearn.externals import joblib\n",
    "RF=joblib.load('result.model')\n",
    "countFR = joblib.load('countresult.model')"
   ]
  },
  {
   "cell_type": "code",
   "execution_count": 3,
   "metadata": {},
   "outputs": [
    {
     "name": "stdout",
     "output_type": "stream",
     "text": [
      "['拍', '一张', '陪', '小宝贝', '原装', '进口', '3.0', ' ', 'V6', '顶', '配版', 'a4']\n",
      "644\n",
      "拍 一张 陪 小宝贝 原装 进口 3.0   V6 顶 配版 a4\n",
      "(644, 4000)\n"
     ]
    },
    {
     "data": {
      "text/plain": [
       "array([ 0.69204053,  0.09704176,  0.04813841,  0.02121051,  0.07836647,\n",
       "        0.00157647,  0.04356596,  0.01805989])"
      ]
     },
     "execution_count": 3,
     "metadata": {},
     "output_type": "execute_result"
    }
   ],
   "source": [
    "import pandas as pd\n",
    "import jieba\n",
    "from sklearn.feature_extraction.text import CountVectorizer\n",
    "from sklearn.naive_bayes import MultinomialNB\n",
    "from sklearn.externals import joblib\n",
    "\n",
    "df_news = pd.read_csv('./data/test1.csv',names=['data'],encoding='utf-8')\n",
    "df_news = df_news.dropna()\n",
    "content = df_news.data.values.tolist()\n",
    "content_S = []\n",
    "for line in content:\n",
    "    current_segment = jieba.lcut(line)\n",
    "    if len(current_segment) >= 1 and current_segment != '\\r\\n': #换行符\n",
    "        content_S.append(current_segment)\n",
    "\n",
    "df_content=pd.DataFrame({'data_S':content_S})\n",
    "stopwords=pd.read_csv(\"stopwords.txt\",index_col=False,sep=\"\\n\",quoting=3,names=['stopword'], encoding='utf-8')\n",
    "\n",
    "def drop_stopwords(contents,stopwords):\n",
    "    contents_clean = []\n",
    "    all_words = []\n",
    "    for line in contents:\n",
    "        line_clean = []\n",
    "        for word in line:\n",
    "            if word in stopwords:\n",
    "                continue\n",
    "            line_clean.append(word)\n",
    "            all_words.append(str(word))\n",
    "            \n",
    "        if line_clean is None:\n",
    "            line_clean.append(\"空\")\n",
    "        contents_clean.append(line_clean)\n",
    "    return contents_clean,all_words\n",
    "    #print (contents_clean)\n",
    "        \n",
    "\n",
    "contents = df_content.data_S.values.tolist()    \n",
    "stopwords = stopwords.stopword.values.tolist()\n",
    "data_clean,all_words = drop_stopwords(contents,stopwords)\n",
    "df_content=pd.DataFrame({'data_clean':data_clean})\n",
    "df_test=pd.DataFrame({'data_clean':data_clean})\n",
    "\n",
    "\n",
    "x_test = df_test['data_clean']\n",
    "\n",
    "print(x_test[1])\n",
    "words = []\n",
    "for line_index in range(len(x_test)):\n",
    "    try:\n",
    "        #x_train[line_index][word_index] = str(x_train[line_index][word_index])\n",
    "        words.append(' '.join(x_test[line_index]))\n",
    "    except:\n",
    "        print (line_index)\n",
    "print (len(words))\n",
    "print(words[1])\n",
    "\n",
    "\n",
    "\n",
    "x = countFR.transform(words)\n",
    "print(x.shape)\n",
    "result = RF.predict_proba(x)\n",
    "result[1]"
   ]
  },
  {
   "cell_type": "code",
   "execution_count": null,
   "metadata": {},
   "outputs": [],
   "source": []
  },
  {
   "cell_type": "code",
   "execution_count": null,
   "metadata": {},
   "outputs": [],
   "source": []
  }
 ],
 "metadata": {
  "kernelspec": {
   "display_name": "Python 3",
   "language": "python",
   "name": "python3"
  },
  "language_info": {
   "codemirror_mode": {
    "name": "ipython",
    "version": 3
   },
   "file_extension": ".py",
   "mimetype": "text/x-python",
   "name": "python",
   "nbconvert_exporter": "python",
   "pygments_lexer": "ipython3",
   "version": "3.6.5"
  }
 },
 "nbformat": 4,
 "nbformat_minor": 2
}
